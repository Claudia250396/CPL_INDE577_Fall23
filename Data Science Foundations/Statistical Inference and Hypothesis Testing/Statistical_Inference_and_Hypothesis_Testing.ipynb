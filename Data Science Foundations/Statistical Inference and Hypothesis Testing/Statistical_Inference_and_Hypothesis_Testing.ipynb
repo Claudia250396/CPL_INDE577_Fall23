{
  "nbformat": 4,
  "nbformat_minor": 0,
  "metadata": {
    "colab": {
      "provenance": []
    },
    "kernelspec": {
      "name": "python3",
      "display_name": "Python 3"
    },
    "language_info": {
      "name": "python"
    }
  },
  "cells": [
    {
      "cell_type": "markdown",
      "source": [
        "# Statistical Inference and Hypothesis Testing\n",
        "\n",
        "**Statistical Inference:**\n",
        "\n",
        "Statistical inference is a process of drawing conclusions about a population based on a sample of data from that population. It involves making predictions, estimates, or decisions about a population parameter (such as a mean or proportion) using information obtained from a subset of that population (the sample). The goal is to generalize the findings from the sample to the larger population while accounting for the inherent uncertainty involved in the sampling process.\n",
        "\n",
        "There are two main types of statistical inference:\n",
        "\n",
        "\n",
        "\n",
        "*   Estimation: This involves estimating an unknown population parameter based on sample data. Common estimation techniques include point estimation, where a single value is used to estimate the parameter, and interval estimation, where a range of values (confidence interval) is provided.\n",
        "\n",
        "*   Hypothesis Testing: This involves making decisions or inferences about a population parameter by comparing sample data to a hypothesis or set of hypotheses. The most common hypothesis testing involves testing a null hypothesis against an alternative hypothesis to determine if there is enough evidence to reject the null hypothesis in favor of the alternative.\n",
        "\n",
        "**Hypothesis Testing:**\n",
        "\n",
        "Hypothesis testing is a structured statistical method for making decisions or drawing inferences about population parameters using sample data.\n",
        "\n",
        "1. Formulate Hypotheses:\n",
        "\n",
        " *   Null Hypothesis $H_0$: This is a statement of no effect or difference, often reflecting the status quo or a default assumption.\n",
        " *   Alternative Hypothesis $H_0$ or $H_α$: This is a statement contradicting the null hypothesis, representing the effect or difference that the researcher aims to identify.\n",
        "\n",
        "2. Choose Significance Level $α$:\n",
        "\n",
        " *  The significance level, denoted as $α$, signifies the probability of committing a Type I error (incorrectly rejecting a true null hypothesis). Commonly used values for $α$ include 0.05 and 0.01.\n",
        "\n",
        "3. Collect and Analyze Data:\n",
        "\n",
        "Collect a sample of data and perform statistical analysis, employing appropriate tests based on the hypothesis under examination (e.g., t-test, chi-square test).\n",
        "Calculate Test Statistic and P-value:\n",
        "\n",
        "4. Compute a test statistic summarizing information from the sample and determine the p-value, representing the probability of observing the results (or more extreme) if the null hypothesis is true.\n",
        "\n",
        "5. Make a Decision:\n",
        "\n",
        "* Compare the p-value to the significance level:\n",
        " * If $ p ≤ α$ , reject the null hypothesis, indicating sufficient evidence to support the alternative hypothesis.\n",
        " * If $ p > α$, fail to reject the null hypothesis, signifying insufficient evidence to support the alternative hypothesis.\n",
        "\n",
        "<img src= \"https://stats.libretexts.org/@api/deki/files/855/null_hypothesis_1.png?revision=1&size=bestfit&width=762&height=298\" >\n",
        "\n"
      ],
      "metadata": {
        "id": "pA6m55L8549q"
      }
    },
    {
      "cell_type": "code",
      "source": [
        "import numpy as np\n",
        "from scipy.stats import ttest_1samp\n",
        "\n",
        "# Generate or load your dataset\n",
        "# For the purpose of this example, let's create a dataset of exam scores\n",
        "np.random.seed(42)\n",
        "exam_scores = np.random.normal(loc=75, scale=10, size=30)  # mean=75, std=10, sample size=30\n",
        "\n",
        "# Population mean (the value we want to test against)\n",
        "population_mean = 80\n",
        "\n",
        "# Perform one-sample t-test\n",
        "t_statistic, p_value = ttest_1samp(exam_scores, population_mean)\n",
        "\n",
        "# Display the results\n",
        "print(f'Test Statistic: {t_statistic}')\n",
        "print(f'P-value: {p_value}')\n",
        "\n",
        "# Check if the null hypothesis is rejected at a significance level of 0.05\n",
        "alpha = 0.05\n",
        "if p_value < alpha:\n",
        "    print(\"Reject the null hypothesis: The sample mean is significantly different from the population mean.\")\n",
        "else:\n",
        "    print(\"Fail to reject the null hypothesis: There is not enough evidence to claim a significant difference.\")\n"
      ],
      "metadata": {
        "colab": {
          "base_uri": "https://localhost:8080/"
        },
        "id": "Is7-MmWa1qKE",
        "outputId": "7f074f22-af3a-451a-854f-e9fb32af55d3"
      },
      "execution_count": 5,
      "outputs": [
        {
          "output_type": "stream",
          "name": "stdout",
          "text": [
            "Test Statistic: -4.18789873337477\n",
            "P-value: 0.00023965836838861642\n",
            "Reject the null hypothesis: The sample mean is significantly different from the population mean.\n"
          ]
        }
      ]
    },
    {
      "cell_type": "markdown",
      "source": [
        "# Conclusion\n",
        "\n",
        "In conclusion, the one-sample t-test conducted on a hypothetical dataset of exam scores aimed to determine whether the sample mean significantly differed from a specified population mean of 80. The calculated test statistic and p-value were used to make a decision at a significance level of 0.05. If the p-value is less than 0.05, the null hypothesis is rejected, indicating a significant difference in exam scores. Conversely, if the p-value is greater than 0.05, the null hypothesis is not rejected, suggesting insufficient evidence to claim a significant difference. The results provide insights into the statistical significance of the observed differences, guiding researchers in drawing conclusions about the population based on the analyzed sample."
      ],
      "metadata": {
        "id": "eovZs93ICadz"
      }
    }
  ]
}